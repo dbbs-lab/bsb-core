{
 "cells": [
  {
   "cell_type": "markdown",
   "metadata": {},
   "source": [
    "# Explore configuration file json "
   ]
  },
  {
   "cell_type": "code",
   "execution_count": null,
   "metadata": {},
   "outputs": [],
   "source": [
    "from bsb.config import from_json\n",
    "\n",
    "\n",
    "cfg = from_json(\"netConfig.json\")\n",
    "\n",
    "print()\n",
    "print(\"Network configuration:\")\n",
    "for key in cfg.network:\n",
    "    print(\"*\", key)\n",
    "print()\n",
    "print(\"Partitions:\")\n",
    "for key in cfg.partitions:\n",
    "    print(\"*\", key)\n",
    "print(\"\\nREGIONS:\")     \n",
    "for i in data['regions']:\n",
    "    print(i)\n",
    "print(\"\\nCELL TYPES:\")  \n",
    "for i in data['cell_types']:\n",
    "    print(i)\n",
    "print(\"\\nPLACEMENT:\")  \n",
    "for i in data['placement']:\n",
    "    print(i)\n",
    "    \n",
    "    \n",
    "f.close()"
   ]
  },
  {
   "cell_type": "markdown",
   "metadata": {},
   "source": [
    "# Create storage object to store the network in"
   ]
  },
  {
   "cell_type": "code",
   "execution_count": 1,
   "metadata": {},
   "outputs": [],
   "source": [
    "from bsb.storage import Storage\n",
    "from bsb.config import from_json\n",
    "from bsb.core import Scaffold\n",
    "from bsb.morphologies import Morphology\n",
    "import h5py    \n",
    "\n",
    "# Load a configuration from file\n",
    "config = from_json(\"netConfig.json\")\n",
    "# Create storage object to store the network in\n",
    "storage = Storage(\"hdf5\", \"basics.hdf5\")\n",
    "network = Scaffold(config, storage)"
   ]
  },
  {
   "cell_type": "markdown",
   "metadata": {},
   "source": [
    "# Saving morphologies in the network\n",
    "\n",
    "Morphologies can come from `.asc` or `.swc` files. In this notebook, the morphologies are available in the `morphologies/` folder, and save them in our network:"
   ]
  },
  {
   "cell_type": "code",
   "execution_count": 2,
   "metadata": {},
   "outputs": [],
   "source": [
    "network.morphologies.save(\"cellB\", Morphology.from_swc(\"morphologies/cellB.swc\"))\n",
    "network.morphologies.save(\"cellA\",  Morphology.from_swc(\"morphologies/cellA.swc\"))\n",
    "network.morphologies.save(\"cellC\",    Morphology.from_swc(\"morphologies/cellC.swc\"))\n",
    "network.morphologies.save(\"interneuronA\", Morphology.from_swc(\"morphologies/interneuronA.swc\"))\n",
    "network.morphologies.save(\"interneuronB\", Morphology.from_swc(\"morphologies/interneuronB.swc\"))\n",
    "\n",
    "#check a certain cell is in the Morphology repo\n",
    "network.morphologies.has(\"cellB\")\n",
    "\n",
    "\n",
    "\n"
   ]
  },
  {
   "cell_type": "code",
   "execution_count": null,
   "metadata": {},
   "outputs": [],
   "source": [
    "# plot one of the cell morphologies\n",
    "from bsb.plotting import plot_morphology\n",
    "cell = network.morphologies.load(\"cellC\")\n",
    "plot_morphology(cell);\n"
   ]
  },
  {
   "cell_type": "markdown",
   "metadata": {},
   "source": [
    "# Compile (reconstruction) the network \n",
    "(here only the placement is defined,  not the connectivity)"
   ]
  },
  {
   "cell_type": "code",
   "execution_count": 3,
   "metadata": {},
   "outputs": [],
   "source": [
    "import bsb.options\n",
    "bsb.options.verbosity = 4\n",
    "network.compile(clear=True)"
   ]
  },
  {
   "cell_type": "markdown",
   "metadata": {},
   "source": [
    "# Plot the 3D network with placed neurons "
   ]
  },
  {
   "cell_type": "code",
   "execution_count": null,
   "metadata": {},
   "outputs": [],
   "source": [
    "from bsb.plotting import plot_network\n",
    "plot_network(network);"
   ]
  },
  {
   "cell_type": "markdown",
   "metadata": {},
   "source": [
    "# Another option to create the own project on bsb"
   ]
  },
  {
   "cell_type": "code",
   "execution_count": null,
   "metadata": {},
   "outputs": [],
   "source": [
    "!bsb new my_first_model --quickstart"
   ]
  }
 ],
 "metadata": {
  "kernelspec": {
   "display_name": "bsb-contrib",
   "language": "python",
   "name": "bsb-contrib"
  },
  "language_info": {
   "codemirror_mode": {
    "name": "ipython",
    "version": 3
   },
   "file_extension": ".py",
   "mimetype": "text/x-python",
   "name": "python",
   "nbconvert_exporter": "python",
   "pygments_lexer": "ipython3",
   "version": "3.9.4"
  }
 },
 "nbformat": 4,
 "nbformat_minor": 2
}
