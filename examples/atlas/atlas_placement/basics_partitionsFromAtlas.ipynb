{
 "cells": [
  {
   "cell_type": "markdown",
   "metadata": {},
   "source": [
    "# Explore configuration file json "
   ]
  },
  {
   "cell_type": "markdown",
   "metadata": {},
   "source": [
    "# Create storage object to store the network in"
   ]
  },
  {
   "cell_type": "code",
   "execution_count": 1,
   "metadata": {},
   "outputs": [],
   "source": [
    "from bsb.storage import Storage\n",
    "from bsb.config import from_json\n",
    "from bsb.core import Scaffold\n",
    "from bsb.morphologies import Morphology\n",
    "import h5py    \n",
    "\n",
    "# Load a configuration from file\n",
    "config = from_json(\"netAtlasConfig.json\")\n",
    "# Create storage object to store the network in\n",
    "storage = Storage(\"hdf5\", \"VISp.hdf5\")\n",
    "network = Scaffold(config, storage)\n"
   ]
  },
  {
   "cell_type": "markdown",
   "metadata": {},
   "source": [
    "# Explore the region of interest (here primary visual cortex as example)\n",
    "properties from allen atlas and density (nrrd data) from blue brain "
   ]
  },
  {
   "cell_type": "code",
   "execution_count": 2,
   "metadata": {},
   "outputs": [],
   "source": [
    "from bsb.topology.partition import NrrdVoxels, AllenStructure\n",
    "import numpy as np\n",
    "import nrrd\n",
    "#voxels = NrrdVoxels(source=\"annotation_25.nrrd\", voxel_size=25)\n",
    "#vs = voxels.get_voxelset()\n",
    "#print(vs)\n",
    "#print(len(vs.data))\n",
    "#print(\"mouse brain volume [mm3]: \", 25*25*25*len(vs.data)*10**(-9))\n",
    "\n",
    "\n",
    "struct = \"VISp\"\n",
    "voxel_size=25\n",
    "\n",
    "# Retrieve the raw Allen information on a structure:\n",
    "node = AllenStructure.find_structure(struct)\n",
    "print(\"Allen node:\", node[\"name\"])\n",
    "\n",
    "# Get all of the IDs and names that are part of this structure:\n",
    "ids = AllenStructure.get_structure_idset(struct)\n",
    "names_subregions=[]\n",
    "for i in ids:\n",
    "    #print(i)\n",
    "    name = AllenStructure.find_structure(int(i))\n",
    "    names_subregions.append(name[\"name\"])\n",
    "print(\"subregions: \", names_subregions)\n",
    "\n",
    "# Get the boolean mask of the structure. 1's are part of the structure, 0s aren't.\n",
    "mask = AllenStructure.get_structure_mask(struct)\n",
    "#print(mask.shape)\n",
    "print(\"The structure contains\", np.sum(mask), \"voxels\")\n",
    "print(\"struct volume [mm3]: \", voxel_size**3*np.sum(mask)/10**9)\n",
    "# You can use this to mask other images of the brain, such as a fictitious density file:\n",
    "brain_image, _ = nrrd.read(\"data/inh_density.nrrd\")\n",
    "struct_image = np.where(mask, brain_image, np.nan)\n",
    "# Or an array of the values:\n",
    "struct_values = brain_image[mask]\n",
    "#print(\"raw number of inh neurons: \", np.sum(struct_values)) with the nrrd of number of neurons / voxel\n",
    "print(\"raw number of inh neurons: \", np.nanmean(struct_values)*voxel_size**3*np.sum(mask))\n",
    "\n",
    "brain_image, _ = nrrd.read(\"data/exc_density.nrrd\")\n",
    "struct_values = brain_image[mask]\n",
    "print(\"raw number of exc neurons: \", np.nanmean(struct_values)*voxel_size**3*np.sum(mask))"
   ]
  },
  {
   "cell_type": "markdown",
   "metadata": {},
   "source": [
    "# Saving morphologies in the network\n",
    "\n",
    "Morphologies can come from `.asc` or `.swc` files. In this notebook, the morphologies are available in the `morphologies/` folder, and save them in our network:"
   ]
  },
  {
   "cell_type": "code",
   "execution_count": 3,
   "metadata": {},
   "outputs": [],
   "source": [
    "network.morphologies.save(\"PyramidalCell\", Morphology.from_swc(\"morphologies/PyramidalCell.swc\"))\n",
    "network.morphologies.save(\"StellateCell_v1\",  Morphology.from_swc(\"morphologies/StellateCell_v1.swc\"))\n",
    "network.morphologies.save(\"StellateCell_v2\",  Morphology.from_swc(\"morphologies/StellateCell_v2.swc\"))\n",
    "\n",
    "# plot one of the cell morphologies\n",
    "from bsb.plotting import plot_morphology\n",
    "cell = network.morphologies.load(\"PyramidalCell\")\n",
    "plot_morphology(cell);\n",
    "\n",
    "from bsb.plotting import plot_morphology\n",
    "cell = network.morphologies.load(\"StellateCell_v1\")\n",
    "plot_morphology(cell);\n",
    "\n",
    "from bsb.plotting import plot_morphology\n",
    "cell = network.morphologies.load(\"StellateCell_v2\")\n",
    "plot_morphology(cell);"
   ]
  },
  {
   "cell_type": "markdown",
   "metadata": {},
   "source": [
    "# Compile (reconstruction) the network \n",
    "(here only the placement is defined,  not the connectivity)\n",
    "(as indicated in the .json, here only 2 layers are filled with excitatory and inhibitory neurons)"
   ]
  },
  {
   "cell_type": "code",
   "execution_count": 4,
   "metadata": {},
   "outputs": [],
   "source": [
    "import bsb.options\n",
    "bsb.options.verbosity = 4\n",
    "network.compile(clear=True)"
   ]
  },
  {
   "cell_type": "markdown",
   "metadata": {},
   "source": [
    "# Plot the 3D network with placed neurons "
   ]
  },
  {
   "cell_type": "code",
   "execution_count": 5,
   "metadata": {},
   "outputs": [],
   "source": [
    "from bsb.plotting import plot_network\n",
    "plot_network(network);"
   ]
  },
  {
   "cell_type": "markdown",
   "metadata": {},
   "source": [
    "# Another option to create the own project on bsb"
   ]
  },
  {
   "cell_type": "code",
   "execution_count": null,
   "metadata": {},
   "outputs": [],
   "source": [
    "!bsb new my_first_model --quickstart"
   ]
  }
 ],
 "metadata": {
  "kernelspec": {
   "display_name": "bsb-contrib",
   "language": "python",
   "name": "bsb-contrib"
  },
  "language_info": {
   "codemirror_mode": {
    "name": "ipython",
    "version": 3
   },
   "file_extension": ".py",
   "mimetype": "text/x-python",
   "name": "python",
   "nbconvert_exporter": "python",
   "pygments_lexer": "ipython3",
   "version": "3.9.4"
  }
 },
 "nbformat": 4,
 "nbformat_minor": 2
}
