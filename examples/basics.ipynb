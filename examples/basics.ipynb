{
 "cells": [
  {
   "cell_type": "markdown",
   "metadata": {},
   "source": [
    "create a Morphology repo (hdf5 file) starting from .swc or .asc files"
   ]
  },
  {
   "cell_type": "code",
   "execution_count": 2,
   "metadata": {},
   "outputs": [],
   "source": [
    "from bsb.storage import Storage\n",
    "from bsb.morphologies import Morphology\n",
    "\n",
    "store = Storage(\"hdf5\", \"morphologies.hdf5\")\n",
    "mr = store.morphologies\n",
    "mr.save(\"cellB\", Morphology.from_swc(\"morphologies/cellB.swc\"))\n",
    "mr.save(\"cellA\",  Morphology.from_swc(\"morphologies/cellA.swc\"))\n",
    "mr.save(\"cellC\",    Morphology.from_swc(\"morphologies/cellC.swc\"))\n",
    "mr.save(\"interneuronA\", Morphology.from_swc(\"morphologies/interneuronA.swc\"))\n",
    "mr.save(\"interneuronB\", Morphology.from_swc(\"morphologies/interneuronB.swc\"))"
   ]
  },
  {
   "cell_type": "code",
   "execution_count": 8,
   "metadata": {},
   "outputs": [
    {
     "name": "stdout",
     "output_type": "stream",
     "text": [
      "Context: <Context options(x: None; y: None; z: None; skip: None; only: None; config: netConfig.json; skip_placement: None; skip_after_placement: None; skip_connectivity: None; skip_after_connectivity: None; append: None; redo: None; clear: True; plot: None; output: None; force: False; verbosity: 4; version: 4.0.0a35) Namespace(config='netConfig.json', verbosity='4', clear=True)>\n",
      "Creating storage from config.\n",
      "Compiling the following strategies: layer1_innervation, layer1_placement, layer2_placement, layer3_placement\n",
      "Clearing data\n",
      "Starting placement strategies: layer1_innervation, layer1_placement, layer2_placement, layer3_placement\n",
      "Queued 12 jobs for layer1_placement\n",
      "Queued 4 jobs for layer2_placement\n",
      "Queued 20 jobs for layer3_placement\n",
      "Untangling 437 collisions\n",
      "Untangling 84 collisions\n",
      "323 cellA (66%) cells pruned.\n",
      "1 cellC (100%) cells pruned.\n",
      "19 glomerulus (50%) cells pruned.\n",
      "Placing 164 cellA in [0 0 0]\n",
      "Traceback (most recent call last):\n",
      "  File \"/home/claudia/.pyenv/versions/aut-cereb/bin/bsb\", line 33, in <module>\n",
      "    sys.exit(load_entry_point('bsb', 'console_scripts', 'bsb')())\n",
      "  File \"/home/claudia/projects/autistic-cerebellum/bsb/bsb/cli/__init__.py\", line 10, in handle_cli\n",
      "    handle_command(sys.argv[1:], exit=True)\n",
      "  File \"/home/claudia/projects/autistic-cerebellum/bsb/bsb/cli/__init__.py\", line 30, in handle_command\n",
      "    namespace.handler(namespace, dryrun=dryrun)\n",
      "  File \"/home/claudia/projects/autistic-cerebellum/bsb/bsb/cli/commands/__init__.py\", line 98, in execute_handler\n",
      "    self.handler(context)\n",
      "  File \"/home/claudia/projects/autistic-cerebellum/bsb/bsb/cli/commands/_commands.py\", line 137, in handler\n",
      "    network.compile(\n",
      "  File \"/home/claudia/projects/autistic-cerebellum/bsb/bsb/core.py\", line 314, in compile\n",
      "    self.run_placement(p_strats)\n",
      "  File \"/home/claudia/projects/autistic-cerebellum/bsb/bsb/core.py\", line 209, in run_placement\n",
      "    pool.execute(loop)\n",
      "  File \"/home/claudia/projects/autistic-cerebellum/bsb/bsb/services/pool.py\", line 292, in execute\n",
      "    job.execute(self.owner, job.f, job._args, job._kwargs)\n",
      "  File \"/home/claudia/projects/autistic-cerebellum/bsb/bsb/services/pool.py\", line 166, in execute\n",
      "    return f(placement, *args[1:], indicators, **kwargs)\n",
      "  File \"/home/claudia/projects/autistic-cerebellum/bsb/bsb/placement/particle.py\", line 98, in place\n",
      "    self._extract_system(system, chunk, indicators)\n",
      "  File \"/home/claudia/projects/autistic-cerebellum/bsb/bsb/placement/particle.py\", line 49, in _extract_system\n",
      "    self.place_cells(indicator, positions, chunk)\n",
      "  File \"/home/claudia/projects/autistic-cerebellum/bsb/bsb/placement/strategy.py\", line 49, in place_cells\n",
      "    morphologies = distr_(\"morphologies\")\n",
      "  File \"/home/claudia/projects/autistic-cerebellum/bsb/bsb/placement/distributor.py\", line 122, in curried\n",
      "    return self(key, partitions, indicator, positions)\n",
      "  File \"/home/claudia/projects/autistic-cerebellum/bsb/bsb/placement/distributor.py\", line 131, in __call__\n",
      "    return distributor.distribute(partitions, indicator, positions)\n",
      "  File \"/home/claudia/projects/autistic-cerebellum/bsb/bsb/placement/distributor.py\", line 70, in distribute\n",
      "    loaders = self.scaffold.storage.morphologies.select(*selectors)\n",
      "  File \"/home/claudia/.pyenv/versions/3.9.4/envs/aut-cereb/lib/python3.9/site-packages/bsb_hdf5/morphology_repository.py\", line 23, in select\n",
      "    selector.validate(all_loaders)\n",
      "  File \"/home/claudia/projects/autistic-cerebellum/bsb/bsb/morphologies/selector.py\", line 56, in validate\n",
      "    raise MissingMorphologyError(err)\n",
      "bsb.exceptions.MissingMorphologyError: Morphology repository misses the following morphologies required by {root}.cell_types.cellA.spatial: cellA\n"
     ]
    }
   ],
   "source": [
    "!bsb compile -v 4 netConfig.json --clear"
   ]
  },
  {
   "cell_type": "code",
   "execution_count": null,
   "metadata": {},
   "outputs": [],
   "source": []
  }
 ],
 "metadata": {
  "kernelspec": {
   "display_name": "aut-cereb",
   "language": "python",
   "name": "aut-cereb"
  },
  "language_info": {
   "codemirror_mode": {
    "name": "ipython",
    "version": 3
   },
   "file_extension": ".py",
   "mimetype": "text/x-python",
   "name": "python",
   "nbconvert_exporter": "python",
   "pygments_lexer": "ipython3",
   "version": "3.9.4"
  }
 },
 "nbformat": 4,
 "nbformat_minor": 2
}
